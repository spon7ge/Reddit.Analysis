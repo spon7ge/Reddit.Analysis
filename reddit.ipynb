{
 "cells": [
  {
   "cell_type": "code",
   "execution_count": 3,
   "metadata": {},
   "outputs": [],
   "source": [
    "import praw\n",
    "import pandas as pd\n",
    "from urllib.parse import urlparse\n",
    "from datetime import datetime\n",
    "\n",
    "reddit = praw.Reddit(\n",
    "    client_id= '2ST5tRddm-CMj_VlM-5qGw',\n",
    "    client_secret= 'PmlPHXvIq7lkSyXhckZ_2bg1lA9-7Q',\n",
    "    user_agent='MyRedditApp/1.0'\n",
    ")\n",
    "\n",
    "def get_subreddit(name):\n",
    "    subreddit = reddit.subreddit(name)\n",
    "    #gets the info of the subreddit\n",
    "    subreddit_info = {\n",
    "        'name': name,\n",
    "        'subscribers': subreddit.subscribers,\n",
    "        'created_utc': datetime.utcfromtimestamp(subreddit.created_utc),\n",
    "        'display_name': subreddit.display_name,\n",
    "        'title': subreddit.title,\n",
    "        'public_description': subreddit.public_description,\n",
    "    }\n",
    "    \n",
    "    return subreddit_info\n",
    "\n",
    "def get_post_data(name, limit=20):\n",
    "    subreddit = reddit.subreddit(name)\n",
    "    posts = []\n",
    "    \n",
    "    # Get posts\n",
    "    for post in subreddit.hot(limit=limit):\n",
    "        post_data = {\n",
    "            'title': post.title,\n",
    "            'score': post.score, \n",
    "            'Number of Comments': post.num_comments,\n",
    "            'selftext': post.selftext,\n",
    "            'Comments': []\n",
    "        }\n",
    "        # Gets comments under the post\n",
    "        post.comments.replace_more(limit=10)\n",
    "        for comment in post.comments.list():\n",
    "            comment_data = {\n",
    "                'body': comment.body,\n",
    "                'score': comment.score\n",
    "            }\n",
    "            post_data['Comments'].append(comment_data)\n",
    "                \n",
    "        posts.append(post_data) \n",
    "    \n",
    "    return posts"
   ]
  },
  {
   "cell_type": "code",
   "execution_count": 4,
   "metadata": {},
   "outputs": [],
   "source": [
    "def analyzeCommunity(subreddit_data, name):\n",
    "    total_post = len(subreddit_data)\n",
    "    total_score = sum(post['score'] for post in subreddit_data)\n",
    "    if total_post > 0:\n",
    "        avg_score = total_score/total_post\n",
    "    else:\n",
    "        avg_score = 0\n",
    "        \n",
    "    total_comments = sum(comment['Number of Comments'] for comment in subreddit_data)\n",
    "    if total_post > 0:\n",
    "        avg_comments = total_comments/total_post\n",
    "    else:\n",
    "        avg_comments = 0\n",
    "    \n",
    "    all_comments = []\n",
    "    for post in subreddit_data:\n",
    "        all_comments.extend(post['Comments'])\n",
    "    \n",
    "    total_comments_score = sum(comment['score'] for comment in all_comments)\n",
    "    avg_comment_score = total_comments_score/ len(all_comments) if len(all_comments) > 0 else 0\n",
    "    \n",
    "    return {\n",
    "        'subreddit': name,\n",
    "        'total_posts': total_post,\n",
    "        'avg_post_score': avg_score,\n",
    "        'total_comments': total_comments,\n",
    "        'avg_comments_per_post': avg_comments,\n",
    "        'total_comments_collected': len(all_comments),\n",
    "        'avg_comment_score': avg_comment_score\n",
    "    }\n",
    "    \n"
   ]
  },
  {
   "cell_type": "code",
   "execution_count": 19,
   "metadata": {},
   "outputs": [],
   "source": [
    "python_subreddit = get_post_data('python')\n",
    "nba_subreddit = get_post_data('nba')\n",
    "dataScience_subreddit = get_post_data('soccer')"
   ]
  },
  {
   "cell_type": "markdown",
   "metadata": {},
   "source": [
    "### Clean up the text so we can train it"
   ]
  },
  {
   "cell_type": "code",
   "execution_count": 28,
   "metadata": {},
   "outputs": [
    {
     "name": "stderr",
     "output_type": "stream",
     "text": [
      "[nltk_data] Downloading package stopwords to\n",
      "[nltk_data]     C:\\Users\\alexg\\AppData\\Roaming\\nltk_data...\n",
      "[nltk_data]   Package stopwords is already up-to-date!\n"
     ]
    }
   ],
   "source": [
    "import re\n",
    "import nltk\n",
    "from nltk.corpus import stopwords\n",
    "nltk.download('stopwords')\n",
    "\n",
    "def preprocess_text(text):\n",
    "    text = text.lower()\n",
    "    text = re.sub(r'[^a-zA-Z0-9\\s]', '', text)\n",
    "    text = re.sub(r'\\d+', '', text)\n",
    "    words = text.split()\n",
    "    stop_words = set(stopwords.words('english'))\n",
    "    filtered_words = [word for word in words if word not in stop_words]\n",
    "    return ' '.join(filtered_words)\n",
    "\n",
    "def grab_comments(subreddit_data):\n",
    "    all_comments = []\n",
    "    for post in subreddit_data:\n",
    "        for comment in post['Comments']:\n",
    "            all_comments.append(comment['body'])\n",
    "    return all_comments\n",
    "\n",
    "cleaned_nba_comments = [preprocess_text(comment) for comment in grab_comments(nba_subreddit)]\n",
    "cleaned_python_comments = [preprocess_text(comment) for comment in grab_comments(python_subreddit)]\n",
    "cleaned_soccer_comments = [preprocess_text(comment) for comment in grab_comments(dataScience_subreddit)]"
   ]
  },
  {
   "cell_type": "markdown",
   "metadata": {},
   "source": [
    "### Extracts the top topics from each post"
   ]
  },
  {
   "cell_type": "code",
   "execution_count": 36,
   "metadata": {},
   "outputs": [],
   "source": [
    "from sklearn.feature_extraction.text import CountVectorizer\n",
    "from sklearn.decomposition import LatentDirichletAllocation\n",
    "\n",
    "def extract_topics(subreddit_data, n_topics=5):\n",
    "    # Combine post titles and text\n",
    "    texts = []\n",
    "    for post in subreddit_data:\n",
    "        combined_text = post['title'] + ' ' + post['selftext']\n",
    "        texts.append(preprocess_text(combined_text))\n",
    "    \n",
    "    # Add comments\n",
    "    for post in subreddit_data:\n",
    "        for comment in post['Comments']:\n",
    "            texts.append(preprocess_text(comment['body']))\n",
    "    \n",
    "    # Create document-term matrix\n",
    "    vectorizer = CountVectorizer(max_df=0.95, min_df=2, max_features=1000)\n",
    "    dtm = vectorizer.fit_transform(texts)\n",
    "    \n",
    "    # Fit LDA model\n",
    "    lda = LatentDirichletAllocation(n_components=n_topics, random_state=42)\n",
    "    lda.fit(dtm)\n",
    "    \n",
    "    # Get feature names\n",
    "    feature_names = vectorizer.get_feature_names_out()\n",
    "    \n",
    "    # Extract top words for each topic\n",
    "    topics = []\n",
    "    for topic_idx, topic in enumerate(lda.components_):\n",
    "        top_words_idx = topic.argsort()[:-10 - 1:-1]\n",
    "        top_words = [feature_names[i] for i in top_words_idx]\n",
    "        topics.append(top_words)\n",
    "    \n",
    "    return topics\n"
   ]
  },
  {
   "cell_type": "markdown",
   "metadata": {},
   "source": [
    "### Calculates the polarity score of each post and comments"
   ]
  },
  {
   "cell_type": "code",
   "execution_count": 32,
   "metadata": {},
   "outputs": [
    {
     "name": "stderr",
     "output_type": "stream",
     "text": [
      "[nltk_data] Downloading package vader_lexicon to\n",
      "[nltk_data]     C:\\Users\\alexg\\AppData\\Roaming\\nltk_data...\n",
      "[nltk_data]   Package vader_lexicon is already up-to-date!\n"
     ]
    }
   ],
   "source": [
    "from nltk.sentiment import SentimentIntensityAnalyzer\n",
    "nltk.download('vader_lexicon')\n",
    "\n",
    "\n",
    "def analyze_sentiment(subreddit_data):\n",
    "    sia = SentimentIntensityAnalyzer()\n",
    "    \n",
    "    # Analyze post sentiments\n",
    "    post_sentiments = []\n",
    "    for post in subreddit_data:\n",
    "        combined_text = post['title'] + ' ' + post['selftext']\n",
    "        sentiment = sia.polarity_scores(combined_text)\n",
    "        post_sentiments.append(sentiment)\n",
    "    \n",
    "    # Analyze comment sentiments\n",
    "    comment_sentiments = []\n",
    "    for post in subreddit_data:\n",
    "        for comment in post['Comments']:\n",
    "            sentiment = sia.polarity_scores(comment['body'])\n",
    "            comment_sentiments.append(sentiment)\n",
    "    \n",
    "    # Calculate average sentiments for posts\n",
    "    if post_sentiments:\n",
    "        total_compound = 0\n",
    "        total_pos = 0\n",
    "        total_neg = 0\n",
    "        total_neutral = 0\n",
    "\n",
    "        for i in post_sentiments:\n",
    "            total_compound += i['compound']\n",
    "            total_pos += i['pos']\n",
    "            total_neg += i['neg']\n",
    "            total_neutral += i['neu']\n",
    "\n",
    "        count = len(post_sentiments)\n",
    "        avg_post_sentiment = {\n",
    "            'compound': total_compound / count,\n",
    "            'positive': total_pos / count,\n",
    "            'negative': total_neg / count,\n",
    "            'neutral': total_neutral / count\n",
    "        }\n",
    "    \n",
    "    # Calculate average sentiments for comments\n",
    "    if comment_sentiments:\n",
    "        total_compound = 0\n",
    "        total_pos = 0\n",
    "        total_neg = 0\n",
    "        total_neutral = 0\n",
    "\n",
    "        for i in comment_sentiments:\n",
    "            total_compound += i['compound']\n",
    "            total_pos += i['pos']\n",
    "            total_neg += i['neg']\n",
    "            total_neutral += i['neu']\n",
    "\n",
    "        count = len(comment_sentiments)\n",
    "        avg_comment_sentiment = {\n",
    "            'compound': total_compound / count,\n",
    "            'positive': total_pos / count,\n",
    "            'negative': total_neg / count,\n",
    "            'neutral': total_neutral / count\n",
    "        }\n",
    "        \n",
    "    return {\n",
    "        'post_sentiment': avg_post_sentiment,\n",
    "        'comment_sentiment': avg_comment_sentiment\n",
    "    }\n"
   ]
  },
  {
   "cell_type": "code",
   "execution_count": 30,
   "metadata": {},
   "outputs": [],
   "source": [
    "from collections import Counter\n",
    "import matplotlib.pyplot as plt\n",
    "import seaborn as sns\n",
    "\n",
    "def analyze_word_frequency(subreddit_data, top_n=20):\n",
    "    all_text = ''.join(subreddit_data)\n",
    "    preprocessed_text = preprocess_text(all_text)\n",
    "    \n",
    "    words = preprocessed_text.split()\n",
    "    word_counts = Counter(words)\n",
    "\n",
    "    top_words = word_counts.most_common(top_n)\n",
    "    \n",
    "    return top_words\n",
    "\n",
    "def plot_word_frequency(top_words, subreddit_name):\n",
    "    words, counts = zip(*top_words)\n",
    "    \n",
    "    plt.figure(figsize=(8, 6))\n",
    "    sns.barplot(x=list(counts), y=list(words))\n",
    "    plt.title(f'Top {len(words)} Words in r/{subreddit_name}')\n",
    "    plt.xlabel('Frequency')\n",
    "    plt.ylabel('Words')\n",
    "    plt.tight_layout()\n",
    "    \n",
    "    return plt"
   ]
  },
  {
   "cell_type": "markdown",
   "metadata": {},
   "source": [
    "### Time to analyze the data"
   ]
  },
  {
   "cell_type": "markdown",
   "metadata": {},
   "source": [
    "Simple statistical analyzsis from each community"
   ]
  },
  {
   "cell_type": "code",
   "execution_count": 27,
   "metadata": {},
   "outputs": [
    {
     "name": "stdout",
     "output_type": "stream",
     "text": [
      "{'subreddit': 'python', 'total_posts': 20, 'avg_post_score': 40.45, 'total_comments': 305, 'avg_comments_per_post': 15.25, 'total_comments_collected': 302, 'avg_comment_score': 7.211920529801325}\n",
      "{'subreddit': 'nba', 'total_posts': 20, 'avg_post_score': 5886.25, 'total_comments': 9304, 'avg_comments_per_post': 465.2, 'total_comments_collected': 7865, 'avg_comment_score': 49.21716465352829}\n",
      "{'subreddit': 'soccer', 'total_posts': 20, 'avg_post_score': 1891.65, 'total_comments': 6123, 'avg_comments_per_post': 306.15, 'total_comments_collected': 4845, 'avg_comment_score': 45.66625386996904}\n"
     ]
    }
   ],
   "source": [
    "python_stats = analyzeCommunity(python_subreddit, 'python')\n",
    "nba_stats = analyzeCommunity(nba_subreddit, 'nba')\n",
    "soccer_stats = analyzeCommunity(dataScience_subreddit, 'soccer')\n",
    "print(python_stats)\n",
    "print(nba_stats)\n",
    "print(soccer_stats)\n"
   ]
  },
  {
   "cell_type": "markdown",
   "metadata": {},
   "source": [
    "Analyze word freq for each subreddit"
   ]
  },
  {
   "cell_type": "code",
   "execution_count": 31,
   "metadata": {},
   "outputs": [
    {
     "data": {
      "image/png": "[encoded data removed]",
      "text/plain": [
       "<Figure size 800x600 with 1 Axes>"
      ]
     },
     "metadata": {},
     "output_type": "display_data"
    },
    {
     "data": {
      "image/png": "[encoded data removed]",
      "text/plain": [
       "<Figure size 800x600 with 1 Axes>"
      ]
     },
     "metadata": {},
     "output_type": "display_data"
    },
    {
     "data": {
      "image/png": "[encoded data removed]",
      "text/plain": [
       "<Figure size 800x600 with 1 Axes>"
      ]
     },
     "metadata": {},
     "output_type": "display_data"
    }
   ],
   "source": [
    "nba_top_words = analyze_word_frequency(cleaned_nba_comments)\n",
    "nba_plot = plot_word_frequency(nba_top_words, \"NBA\")\n",
    "plt.show()\n",
    "\n",
    "python_top_words = analyze_word_frequency(cleaned_python_comments)\n",
    "python_plot = plot_word_frequency(python_top_words, \"Python\")\n",
    "plt.show()\n",
    "\n",
    "soccer_top_words = analyze_word_frequency(cleaned_soccer_comments)\n",
    "soccer_plot = plot_word_frequency(soccer_top_words, \"Soccer\")\n",
    "plt.show()\n",
    "\n",
    "\n"
   ]
  },
  {
   "cell_type": "markdown",
   "metadata": {},
   "source": [
    "Analyzed the polarity of each comment and post to see if its postive, negative or neutral"
   ]
  },
  {
   "cell_type": "code",
   "execution_count": 33,
   "metadata": {},
   "outputs": [
    {
     "data": {
      "text/plain": [
       "{'post_sentiment': {'compound': 0.14416,\n",
       "  'positive': 0.0779,\n",
       "  'negative': 0.07204999999999999,\n",
       "  'neutral': 0.8500499999999999},\n",
       " 'comment_sentiment': {'compound': 0.1686354798761613,\n",
       "  'positive': 0.13917750257997935,\n",
       "  'negative': 0.08097234262125913,\n",
       "  'neutral': 0.7786144478844172}}"
      ]
     },
     "execution_count": 33,
     "metadata": {},
     "output_type": "execute_result"
    }
   ],
   "source": [
    "soccer_sentiment_results = analyze_sentiment(dataScience_subreddit)\n",
    "soccer_sentiment_results\n",
    "\n"
   ]
  },
  {
   "cell_type": "code",
   "execution_count": 34,
   "metadata": {},
   "outputs": [
    {
     "data": {
      "text/plain": [
       "{'post_sentiment': {'compound': 0.698025,\n",
       "  'positive': 0.13165,\n",
       "  'negative': 0.0225,\n",
       "  'neutral': 0.8458},\n",
       " 'comment_sentiment': {'compound': 0.2643834437086091,\n",
       "  'positive': 0.13749668874172194,\n",
       "  'negative': 0.03753973509933775,\n",
       "  'neutral': 0.8249503311258278}}"
      ]
     },
     "execution_count": 34,
     "metadata": {},
     "output_type": "execute_result"
    }
   ],
   "source": [
    "python_sentiment_results = analyze_sentiment(python_subreddit)\n",
    "python_sentiment_results"
   ]
  },
  {
   "cell_type": "code",
   "execution_count": 35,
   "metadata": {},
   "outputs": [
    {
     "data": {
      "text/plain": [
       "{'post_sentiment': {'compound': 0.32363,\n",
       "  'positive': 0.1213,\n",
       "  'negative': 0.038599999999999995,\n",
       "  'neutral': 0.83995},\n",
       " 'comment_sentiment': {'compound': 0.09571410044500976,\n",
       "  'positive': 0.1382565797838522,\n",
       "  'negative': 0.10215702479338813,\n",
       "  'neutral': 0.7592034329307028}}"
      ]
     },
     "execution_count": 35,
     "metadata": {},
     "output_type": "execute_result"
    }
   ],
   "source": [
    "nba_sentiment_results = analyze_sentiment(nba_subreddit)\n",
    "nba_sentiment_results"
   ]
  },
  {
   "cell_type": "markdown",
   "metadata": {},
   "source": [
    "Look at the top topics "
   ]
  },
  {
   "cell_type": "code",
   "execution_count": 37,
   "metadata": {},
   "outputs": [
    {
     "data": {
      "text/plain": [
       "[['steph',\n",
       "  'rockets',\n",
       "  'warriors',\n",
       "  'curry',\n",
       "  'houston',\n",
       "  'lol',\n",
       "  'draymond',\n",
       "  'fans',\n",
       "  'team',\n",
       "  'fuck'],\n",
       " ['game',\n",
       "  'green',\n",
       "  'team',\n",
       "  'series',\n",
       "  'think',\n",
       "  'jalen',\n",
       "  'season',\n",
       "  'get',\n",
       "  'rockets',\n",
       "  'like'],\n",
       " ['hes',\n",
       "  'brooks',\n",
       "  'like',\n",
       "  'dont',\n",
       "  'pop',\n",
       "  'players',\n",
       "  'people',\n",
       "  'guy',\n",
       "  'love',\n",
       "  'shit'],\n",
       " ['like',\n",
       "  'draymond',\n",
       "  'get',\n",
       "  'buddy',\n",
       "  'hate',\n",
       "  'warriors',\n",
       "  'lol',\n",
       "  'right',\n",
       "  'man',\n",
       "  'game'],\n",
       " ['im',\n",
       "  'years',\n",
       "  'like',\n",
       "  'see',\n",
       "  'year',\n",
       "  'still',\n",
       "  'time',\n",
       "  'one',\n",
       "  'team',\n",
       "  'spurs']]"
      ]
     },
     "execution_count": 37,
     "metadata": {},
     "output_type": "execute_result"
    }
   ],
   "source": [
    "nba_topics = extract_topics(nba_subreddit)\n",
    "nba_topics"
   ]
  },
  {
   "cell_type": "code",
   "execution_count": 38,
   "metadata": {},
   "outputs": [
    {
     "data": {
      "text/plain": [
       "[['league',\n",
       "  'teams',\n",
       "  'champions',\n",
       "  'cl',\n",
       "  'would',\n",
       "  'get',\n",
       "  'top',\n",
       "  'europa',\n",
       "  'cup',\n",
       "  'win'],\n",
       " ['liverpool',\n",
       "  'club',\n",
       "  'fans',\n",
       "  'hes',\n",
       "  'madrid',\n",
       "  'trent',\n",
       "  'leaving',\n",
       "  'player',\n",
       "  'free',\n",
       "  'dont'],\n",
       " ['like',\n",
       "  'hes',\n",
       "  'one',\n",
       "  'game',\n",
       "  'even',\n",
       "  'football',\n",
       "  'think',\n",
       "  'thats',\n",
       "  'team',\n",
       "  'right'],\n",
       " ['players',\n",
       "  'would',\n",
       "  'dont',\n",
       "  'contract',\n",
       "  'like',\n",
       "  'didnt',\n",
       "  'think',\n",
       "  'years',\n",
       "  'video',\n",
       "  'italy'],\n",
       " ['season',\n",
       "  'last',\n",
       "  'next',\n",
       "  'back',\n",
       "  'us',\n",
       "  'years',\n",
       "  'games',\n",
       "  'team',\n",
       "  'barcelona',\n",
       "  'th']]"
      ]
     },
     "execution_count": 38,
     "metadata": {},
     "output_type": "execute_result"
    }
   ],
   "source": [
    "soccer_topics = extract_topics(dataScience_subreddit)\n",
    "soccer_topics\n"
   ]
  },
  {
   "cell_type": "code",
   "execution_count": 39,
   "metadata": {},
   "outputs": [
    {
     "data": {
      "text/plain": [
       "[['one',\n",
       "  'like',\n",
       "  'problem',\n",
       "  'day',\n",
       "  'im',\n",
       "  'know',\n",
       "  'rust',\n",
       "  'solution',\n",
       "  'lot',\n",
       "  'think'],\n",
       " ['ive',\n",
       "  'observability',\n",
       "  'type',\n",
       "  'solution',\n",
       "  'celery',\n",
       "  'better',\n",
       "  'years',\n",
       "  'search',\n",
       "  'learning',\n",
       "  'thats'],\n",
       " ['like',\n",
       "  'python',\n",
       "  'would',\n",
       "  'use',\n",
       "  'im',\n",
       "  'want',\n",
       "  'work',\n",
       "  'file',\n",
       "  'way',\n",
       "  'standard'],\n",
       " ['asyncmq',\n",
       "  'im',\n",
       "  'job',\n",
       "  'like',\n",
       "  'also',\n",
       "  'use',\n",
       "  'python',\n",
       "  'many',\n",
       "  'doesnt',\n",
       "  'hatched'],\n",
       " ['python',\n",
       "  'uv',\n",
       "  'using',\n",
       "  'project',\n",
       "  'work',\n",
       "  'use',\n",
       "  'install',\n",
       "  'folder',\n",
       "  'pdf',\n",
       "  'new']]"
      ]
     },
     "execution_count": 39,
     "metadata": {},
     "output_type": "execute_result"
    }
   ],
   "source": [
    "python_topics = extract_topics(python_subreddit)\n",
    "python_topics\n",
    "\n",
    "\n"
   ]
  },
  {
   "cell_type": "code",
   "execution_count": null,
   "metadata": {},
   "outputs": [],
   "source": []
  }
 ],
 "metadata": {
  "kernelspec": {
   "display_name": "Python 3",
   "language": "python",
   "name": "python3"
  },
  "language_info": {
   "codemirror_mode": {
    "name": "ipython",
    "version": 3
   },
   "file_extension": ".py",
   "mimetype": "text/x-python",
   "name": "python",
   "nbconvert_exporter": "python",
   "pygments_lexer": "ipython3",
   "version": "3.12.2"
  }
 },
 "nbformat": 4,
 "nbformat_minor": 2
}
